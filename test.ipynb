{
 "cells": [
  {
   "cell_type": "code",
   "execution_count": 1,
   "metadata": {},
   "outputs": [],
   "source": [
    "import pandas as pd\n",
    "import numpy as np\n",
    "import requests as re\n",
    "import json"
   ]
  },
  {
   "cell_type": "code",
   "execution_count": 9,
   "metadata": {},
   "outputs": [],
   "source": [
    "payload = {\n",
    "    \"phone_num\": \"test\",\n",
    "    \"name\": \"test\",\n",
    "    \"classes\": \"test\",\n",
    "    \"gruop_lv1\": \"test\",\n",
    "    \"gruop_lv2\": \"test\",\n",
    "    \"gruop_lv3\": \"test\",\n",
    "    \"tmp1\": \"test\",\n",
    "    \"tmp2\": \"test\"\n",
    "}\n",
    "\n",
    "\n",
    "# np.random.randint(1000, size=8)\n",
    "\n",
    "def getLoginToken() -> str:\n",
    "    _AUTH = {\n",
    "    \"identity\":\"test_user\",\n",
    "    \"password\":\"test_user\"\n",
    "    }\n",
    "    json_headers = {'Content-Type': 'application/json; charset=utf-8'}\n",
    "    resp = re.post(url='http://127.0.0.1:8090/api/collections/users/auth-with-password', headers=json_headers, json=_AUTH)\n",
    "    token = resp.json()['token']\n",
    "    \n",
    "    return token\n",
    "\n",
    "token = getLoginToken()"
   ]
  },
  {
   "cell_type": "code",
   "execution_count": 23,
   "metadata": {},
   "outputs": [
    {
     "data": {
      "text/plain": [
       "<Response [200]>"
      ]
     },
     "execution_count": 23,
     "metadata": {},
     "output_type": "execute_result"
    }
   ],
   "source": [
    "payload = pd.DataFrame({\n",
    "        'phone_num':['test'], 'name':['test'], 'classes':['test'], 'gruop_lv1':['test'], 'gruop_lv2':['test'], 'gruop_lv3':['test'], 'tmp1':['test'], 'tmp2':['test']\n",
    "        }).iloc[0].to_dict()\n",
    "\n",
    "# url = 'http://127.0.0.1:8090/api/collections/user_list/records'\n",
    "# _result = re.post(url, headers={'Authorization': token}, json=payload)\n",
    "\n",
    "url = 'http://127.0.0.1:8090/api/collections/user_list/records'\n",
    "_res = re.get(url=url, headers={'Authorization': token})\n",
    "_res"
   ]
  },
  {
   "cell_type": "code",
   "execution_count": 25,
   "metadata": {},
   "outputs": [
    {
     "data": {
      "text/plain": [
       "[{'classes': '경위',\n",
       "  'collectionId': 'jp19sz33pm3uawn',\n",
       "  'collectionName': 'user_list',\n",
       "  'created': '2024-01-02 06:15:36.489Z',\n",
       "  'gruop_lv1': '정보과',\n",
       "  'gruop_lv2': '정보내근',\n",
       "  'gruop_lv3': '',\n",
       "  'id': '6t5m2a0a9v7pzwc',\n",
       "  'name': '박병현',\n",
       "  'phone_num': '281',\n",
       "  'tmp1': '',\n",
       "  'tmp2': '',\n",
       "  'updated': '2024-01-02 07:59:32.767Z'},\n",
       " {'classes': '경감',\n",
       "  'collectionId': 'jp19sz33pm3uawn',\n",
       "  'collectionName': 'user_list',\n",
       "  'created': '2024-01-02 06:30:40.184Z',\n",
       "  'gruop_lv1': '정보과',\n",
       "  'gruop_lv2': '정보내근',\n",
       "  'gruop_lv3': '',\n",
       "  'id': 'd9fqou8j01frr96',\n",
       "  'name': '김완철',\n",
       "  'phone_num': '282',\n",
       "  'tmp1': '',\n",
       "  'tmp2': '',\n",
       "  'updated': '2024-01-02 06:30:40.184Z'},\n",
       " {'classes': '경사',\n",
       "  'collectionId': 'jp19sz33pm3uawn',\n",
       "  'collectionName': 'user_list',\n",
       "  'created': '2024-01-02 06:43:21.227Z',\n",
       "  'gruop_lv1': '정보과',\n",
       "  'gruop_lv2': '정보내근',\n",
       "  'gruop_lv3': '',\n",
       "  'id': '6mzplelvrijwzrb',\n",
       "  'name': '손필준',\n",
       "  'phone_num': '382',\n",
       "  'tmp1': '',\n",
       "  'tmp2': '',\n",
       "  'updated': '2024-01-02 06:43:21.227Z'},\n",
       " {'classes': '경위',\n",
       "  'collectionId': 'jp19sz33pm3uawn',\n",
       "  'collectionName': 'user_list',\n",
       "  'created': '2024-01-02 06:54:23.234Z',\n",
       "  'gruop_lv1': '정보과',\n",
       "  'gruop_lv2': '정보외근',\n",
       "  'gruop_lv3': '',\n",
       "  'id': 'gtd0k4w4aifdwrn',\n",
       "  'name': '백종덕',\n",
       "  'phone_num': '782',\n",
       "  'tmp1': '',\n",
       "  'tmp2': '',\n",
       "  'updated': '2024-01-02 06:54:23.234Z'},\n",
       " {'classes': '경위',\n",
       "  'collectionId': 'jp19sz33pm3uawn',\n",
       "  'collectionName': 'user_list',\n",
       "  'created': '2024-01-02 07:02:29.531Z',\n",
       "  'gruop_lv1': '정보과',\n",
       "  'gruop_lv2': '정보외근',\n",
       "  'gruop_lv3': '',\n",
       "  'id': '15w5s4il195gafx',\n",
       "  'name': '정일수',\n",
       "  'phone_num': '283',\n",
       "  'tmp1': '',\n",
       "  'tmp2': '',\n",
       "  'updated': '2024-01-02 07:02:29.531Z'},\n",
       " {'classes': '경위',\n",
       "  'collectionId': 'jp19sz33pm3uawn',\n",
       "  'collectionName': 'user_list',\n",
       "  'created': '2024-01-02 07:12:21.657Z',\n",
       "  'gruop_lv1': '정보과',\n",
       "  'gruop_lv2': '정보분석',\n",
       "  'gruop_lv3': '',\n",
       "  'id': 'dnu4pvww5eaeswl',\n",
       "  'name': '정원택',\n",
       "  'phone_num': '882',\n",
       "  'tmp1': '',\n",
       "  'tmp2': '',\n",
       "  'updated': '2024-01-02 07:12:21.657Z'},\n",
       " {'classes': '경사',\n",
       "  'collectionId': 'jp19sz33pm3uawn',\n",
       "  'collectionName': 'user_list',\n",
       "  'created': '2024-01-02 07:22:01.913Z',\n",
       "  'gruop_lv1': '정보과',\n",
       "  'gruop_lv2': '정보분석',\n",
       "  'gruop_lv3': '',\n",
       "  'id': 'orvibig08wya1ji',\n",
       "  'name': '최재혁',\n",
       "  'phone_num': '581',\n",
       "  'tmp1': '',\n",
       "  'tmp2': '',\n",
       "  'updated': '2024-01-02 07:22:01.913Z'},\n",
       " {'classes': '경감',\n",
       "  'collectionId': 'jp19sz33pm3uawn',\n",
       "  'collectionName': 'user_list',\n",
       "  'created': '2024-01-02 07:31:45.034Z',\n",
       "  'gruop_lv1': '정보과',\n",
       "  'gruop_lv2': '정보내근',\n",
       "  'gruop_lv3': '',\n",
       "  'id': '9clc6ctjxrr1q0t',\n",
       "  'name': '강진원',\n",
       "  'phone_num': '381',\n",
       "  'tmp1': '',\n",
       "  'tmp2': '',\n",
       "  'updated': '2024-01-02 07:31:45.034Z'}]"
      ]
     },
     "execution_count": 25,
     "metadata": {},
     "output_type": "execute_result"
    }
   ],
   "source": [
    "_res.json()['items']"
   ]
  },
  {
   "cell_type": "code",
   "execution_count": 103,
   "metadata": {},
   "outputs": [
    {
     "data": {
      "text/plain": [
       "{'phone_num': 'test',\n",
       " 'name': 'test',\n",
       " 'classes': 'test',\n",
       " 'gruop_lv1': 'test',\n",
       " 'gruop_lv2': 'test',\n",
       " 'gruop_lv3': 'test',\n",
       " 'tmp1': 'test',\n",
       " 'tmp2': 'test'}"
      ]
     },
     "execution_count": 103,
     "metadata": {},
     "output_type": "execute_result"
    }
   ],
   "source": [
    "pd.DataFrame({\n",
    "        'phone_num':['test'], 'name':['test'], 'classes':['test'], 'gruop_lv1':['test'], 'gruop_lv2':['test'], 'gruop_lv3':['test'], 'tmp1':['test'], 'tmp2':['test']\n",
    "        }).iloc[0].to_dict()"
   ]
  },
  {
   "cell_type": "code",
   "execution_count": 124,
   "metadata": {},
   "outputs": [],
   "source": [
    "\n",
    "columns = ['phone_num', 'name', 'classes', 'gruop_lv1', 'gruop_lv2', 'gruop_lv3', 'tmp1', 'tmp2']\n",
    "\n",
    "new1 = pd.DataFrame([np.random.randint(1000, size=8)], columns=columns)\n",
    "new2 = pd.DataFrame([np.random.randint(1000, size=8)], columns=columns)\n",
    "\n",
    "df = pd.concat([new1, new2], ignore_index=True)"
   ]
  },
  {
   "cell_type": "code",
   "execution_count": null,
   "metadata": {},
   "outputs": [],
   "source": []
  }
 ],
 "metadata": {
  "kernelspec": {
   "display_name": "st",
   "language": "python",
   "name": "python3"
  },
  "language_info": {
   "codemirror_mode": {
    "name": "ipython",
    "version": 3
   },
   "file_extension": ".py",
   "mimetype": "text/x-python",
   "name": "python",
   "nbconvert_exporter": "python",
   "pygments_lexer": "ipython3",
   "version": "3.9.18"
  }
 },
 "nbformat": 4,
 "nbformat_minor": 2
}
