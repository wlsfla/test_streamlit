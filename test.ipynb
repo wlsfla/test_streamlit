{
 "cells": [
  {
   "cell_type": "code",
   "execution_count": null,
   "metadata": {},
   "outputs": [],
   "source": [
    "import pandas as pd\n",
    "import numpy as np\n",
    "import requests as re\n",
    "import json"
   ]
  },
  {
   "cell_type": "code",
   "execution_count": null,
   "metadata": {},
   "outputs": [],
   "source": [
    "payload = {\n",
    "    \"phone_num\": \"test\",\n",
    "    \"name\": \"test\",\n",
    "    \"classes\": \"test\",\n",
    "    \"gruop_lv1\": \"test\",\n",
    "    \"gruop_lv2\": \"test\",\n",
    "    \"gruop_lv3\": \"test\",\n",
    "    \"tmp1\": \"test\",\n",
    "    \"tmp2\": \"test\"\n",
    "}\n",
    "\n",
    "\n",
    "# np.random.randint(1000, size=8)\n",
    "\n",
    "def getLoginToken() -> str:\n",
    "    _AUTH = {\n",
    "    \"identity\":\"test_user\",\n",
    "    \"password\":\"test_user\"\n",
    "    }\n",
    "    json_headers = {'Content-Type': 'application/json; charset=utf-8'}\n",
    "    resp = re.post(url='http://127.0.0.1:8090/api/collections/users/auth-with-password', headers=json_headers, json=_AUTH)\n",
    "    token = resp.json()['token']\n",
    "    \n",
    "    return token\n",
    "\n",
    "token = getLoginToken()"
   ]
  },
  {
   "cell_type": "code",
   "execution_count": null,
   "metadata": {},
   "outputs": [],
   "source": [
    "payload = pd.DataFrame({\n",
    "        'phone_num':['test'], 'name':['test'], 'classes':['test'], 'gruop_lv1':['test'], 'gruop_lv2':['test'], 'gruop_lv3':['test'], 'tmp1':['test'], 'tmp2':['test']\n",
    "        }).iloc[0].to_dict()\n",
    "\n",
    "# url = 'http://127.0.0.1:8090/api/collections/user_list/records'\n",
    "# _result = re.post(url, headers={'Authorization': token}, json=payload)\n",
    "\n",
    "url = 'http://127.0.0.1:8090/api/collections/user_list/records'\n",
    "_res = re.get(url=url, headers={'Authorization': token})\n",
    "_res"
   ]
  },
  {
   "cell_type": "code",
   "execution_count": null,
   "metadata": {},
   "outputs": [],
   "source": [
    "_res.json()['items']"
   ]
  },
  {
   "cell_type": "code",
   "execution_count": null,
   "metadata": {},
   "outputs": [],
   "source": [
    "pd.DataFrame({\n",
    "        'phone_num':['test'], 'name':['test'], 'classes':['test'], 'gruop_lv1':['test'], 'gruop_lv2':['test'], 'gruop_lv3':['test'], 'tmp1':['test'], 'tmp2':['test']\n",
    "        }).iloc[0].to_dict()"
   ]
  },
  {
   "cell_type": "code",
   "execution_count": null,
   "metadata": {},
   "outputs": [],
   "source": [
    "\n",
    "columns = ['phone_num', 'name', 'classes', 'gruop_lv1', 'gruop_lv2', 'gruop_lv3', 'tmp1', 'tmp2']\n",
    "\n",
    "new1 = pd.DataFrame([np.random.randint(1000, size=8)], columns=columns)\n",
    "new2 = pd.DataFrame([np.random.randint(1000, size=8)], columns=columns)\n",
    "\n",
    "df = pd.concat([new1, new2], ignore_index=True)"
   ]
  },
  {
   "cell_type": "code",
   "execution_count": null,
   "metadata": {},
   "outputs": [],
   "source": []
  }
 ],
 "metadata": {
  "kernelspec": {
   "display_name": "st",
   "language": "python",
   "name": "python3"
  },
  "language_info": {
   "codemirror_mode": {
    "name": "ipython",
    "version": 3
   },
   "file_extension": ".py",
   "mimetype": "text/x-python",
   "name": "python",
   "nbconvert_exporter": "python",
   "pygments_lexer": "ipython3",
   "version": "3.12.0"
  }
 },
 "nbformat": 4,
 "nbformat_minor": 2
}
