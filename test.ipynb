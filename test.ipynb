{
 "cells": [
  {
   "cell_type": "code",
   "execution_count": 19,
   "metadata": {},
   "outputs": [],
   "source": [
    "import pandas as pd\n",
    "import numpy as np\n",
    "import requests as re"
   ]
  },
  {
   "cell_type": "code",
   "execution_count": null,
   "metadata": {},
   "outputs": [],
   "source": [
    "# http://127.0.0.1:8090/api/collections/user_list/records"
   ]
  },
  {
   "cell_type": "code",
   "execution_count": 15,
   "metadata": {},
   "outputs": [],
   "source": [
    "payload = {\n",
    "    \"phone_num\": \"test\",\n",
    "    \"name\": \"test\",\n",
    "    \"classes\": \"test\",\n",
    "    \"gruop_lv1\": \"test\",\n",
    "    \"gruop_lv2\": \"test\",\n",
    "    \"gruop_lv3\": \"test\",\n",
    "    \"tmp1\": \"test\",\n",
    "    \"tmp2\": \"test\"\n",
    "}\n",
    "\n",
    "# np.random.randint(1000, size=8)\n",
    "\n",
    "\n",
    "def getLoginToken() -> str:\n",
    "    json_headers = {'Content-Type': 'application/json; charset=utf-8'}\n",
    "    resp = re.post(url='http://127.0.0.1:8090/api/collections/users/auth-with-password', headers=json_headers, json={\"identity\":\"test_user\",\"password\":\"test_user\"})\n",
    "    token = resp.json()['token']\n",
    "    \n",
    "    return token\n",
    "\n"
   ]
  },
  {
   "cell_type": "code",
   "execution_count": 33,
   "metadata": {},
   "outputs": [
    {
     "data": {
      "text/plain": [
       "phone_num    2\n",
       "name         2\n",
       "classes      2\n",
       "gruop_lv1    2\n",
       "gruop_lv2    2\n",
       "gruop_lv3    2\n",
       "tmp1         2\n",
       "tmp2         2\n",
       "dtype: object"
      ]
     },
     "execution_count": 33,
     "metadata": {},
     "output_type": "execute_result"
    }
   ],
   "source": [
    "\n",
    "test = pd.DataFrame(columns=['phone_num', 'name', 'classes', 'gruop_lv1', 'gruop_lv2', 'gruop_lv3', 'tmp1', 'tmp2'])\n",
    "new1 = pd.Series(data={'phone_num':'1', 'name':'1', 'classes':'1', 'gruop_lv1':'1', 'gruop_lv2':'1', 'gruop_lv3':'1', 'tmp1':'1', 'tmp2':'1'})\n",
    "new2 = pd.Series(data={'phone_num':'2', 'name':'2', 'classes':'2', 'gruop_lv1':'2', 'gruop_lv2':'2', 'gruop_lv3':'2', 'tmp1':'2', 'tmp2':'2'})\n",
    "pd.concat([test, new1, new2], ignore_index=True)"
   ]
  }
 ],
 "metadata": {
  "kernelspec": {
   "display_name": "st",
   "language": "python",
   "name": "python3"
  },
  "language_info": {
   "codemirror_mode": {
    "name": "ipython",
    "version": 3
   },
   "file_extension": ".py",
   "mimetype": "text/x-python",
   "name": "python",
   "nbconvert_exporter": "python",
   "pygments_lexer": "ipython3",
   "version": "3.9.18"
  }
 },
 "nbformat": 4,
 "nbformat_minor": 2
}
